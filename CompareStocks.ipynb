{
 "cells": [
  {
   "cell_type": "markdown",
   "id": "fe85c373",
   "metadata": {},
   "source": [
    "## COMPARE STOCKS BEFORE INVESTING "
   ]
  },
  {
   "cell_type": "code",
   "execution_count": 1,
   "id": "76269883",
   "metadata": {},
   "outputs": [],
   "source": [
    "import numpy as np\n",
    "import pandas as pd\n",
    "import pandas_datareader as pdr\n",
    "pd.options.display.float_format = \"{:,.4f}\".format\n",
    "import datetime \n",
    "from datetime import date"
   ]
  },
  {
   "cell_type": "code",
   "execution_count": 9,
   "id": "768f99db",
   "metadata": {},
   "outputs": [],
   "source": [
    "def CompareStocks(tickers,startTime=datetime.date.today()-datetime.timedelta(365*2), endTime=datetime.date.today()):\n",
    "    # pull price data from yahoo -- (list(tickers.keys())) = ['Stock A key','Stock B key']\n",
    "    prices = pdr.DataReader(list(tickers.keys()), \"yahoo\", startTime, endTime)[\n",
    "        \"Adj Close\"\n",
    "    ]\n",
    "    \n",
    "    prices = prices.rename(columns=tickers)\n",
    "    returns = np.log(prices) - np.log(prices.shift(1))\n",
    "    returns = returns.iloc[1:, 0:]\n",
    "    \n",
    "    # pull data into separate DataFrame,for calculating our highLow metric\n",
    "    # highLow Metric is VolTest1\n",
    "    currYear = prices.loc[\n",
    "        date.today() - datetime.timedelta(365) : date.today() \n",
    "    ]\n",
    "    \n",
    "    highLow = (currYear.max() - currYear.min()) / prices.iloc[-1]\n",
    "    highLow = pd.DataFrame(highLow, columns=[\"VolTest1\"])\n",
    "    \n",
    "    # Moving average volatility Metric, is VolTest2\n",
    "    MA = pd.DataFrame(\n",
    "        ((abs(prices - prices.rolling(50).mean())) / prices).mean(),\n",
    "        columns=[\"VolTest2\"],\n",
    "    )\n",
    "    \n",
    "    investments = pd.merge(highLow, MA, on=\"Symbols\")\n",
    "    investments = pd.merge(\n",
    "        investments,\n",
    "        pd.DataFrame(returns.std(), columns=[\"StandardDeviation\"]),\n",
    "        on=\"Symbols\",\n",
    "    )\n",
    "    \n",
    "    investments = pd.merge(\n",
    "        investments,\n",
    "        pd.DataFrame(100 * returns.mean(), columns=[\"Daily Return %\"]),\n",
    "        on=\"Symbols\",\n",
    "    )\n",
    "    \n",
    "    return investments.round(4)"
   ]
  },
  {
   "cell_type": "code",
   "execution_count": 10,
   "id": "1784f029",
   "metadata": {
    "scrolled": false
   },
   "outputs": [
    {
     "data": {
      "text/html": [
       "<div>\n",
       "<style scoped>\n",
       "    .dataframe tbody tr th:only-of-type {\n",
       "        vertical-align: middle;\n",
       "    }\n",
       "\n",
       "    .dataframe tbody tr th {\n",
       "        vertical-align: top;\n",
       "    }\n",
       "\n",
       "    .dataframe thead th {\n",
       "        text-align: right;\n",
       "    }\n",
       "</style>\n",
       "<table border=\"1\" class=\"dataframe\">\n",
       "  <thead>\n",
       "    <tr style=\"text-align: right;\">\n",
       "      <th></th>\n",
       "      <th>VolTest1</th>\n",
       "      <th>VolTest2</th>\n",
       "      <th>StandardDeviation</th>\n",
       "      <th>Daily Return %</th>\n",
       "    </tr>\n",
       "    <tr>\n",
       "      <th>Symbols</th>\n",
       "      <th></th>\n",
       "      <th></th>\n",
       "      <th></th>\n",
       "      <th></th>\n",
       "    </tr>\n",
       "  </thead>\n",
       "  <tbody>\n",
       "    <tr>\n",
       "      <th>Stock A</th>\n",
       "      <td>0.3081</td>\n",
       "      <td>0.0315</td>\n",
       "      <td>0.0112</td>\n",
       "      <td>0.0325</td>\n",
       "    </tr>\n",
       "    <tr>\n",
       "      <th>Stock B</th>\n",
       "      <td>0.4806</td>\n",
       "      <td>0.0438</td>\n",
       "      <td>0.0153</td>\n",
       "      <td>0.0289</td>\n",
       "    </tr>\n",
       "  </tbody>\n",
       "</table>\n",
       "</div>"
      ],
      "text/plain": [
       "         VolTest1  VolTest2  StandardDeviation  Daily Return %\n",
       "Symbols                                                       \n",
       "Stock A    0.3081    0.0315             0.0112          0.0325\n",
       "Stock B    0.4806    0.0438             0.0153          0.0289"
      ]
     },
     "execution_count": 10,
     "metadata": {},
     "output_type": "execute_result"
    }
   ],
   "source": [
    "CompareStocks({\"^GSPC\": \"Stock A\", \"^RUT\": \"Stock B\"},)\n",
    "#Choose correct Tickers as many as possible to compare stocks\n",
    "#In this eg. ^GSPC is ticker for S&P500 while ^RUT is ticker for Russell2000"
   ]
  },
  {
   "cell_type": "code",
   "execution_count": null,
   "id": "026407af",
   "metadata": {},
   "outputs": [],
   "source": []
  }
 ],
 "metadata": {
  "kernelspec": {
   "display_name": "Python 3 (ipykernel)",
   "language": "python",
   "name": "python3"
  },
  "language_info": {
   "codemirror_mode": {
    "name": "ipython",
    "version": 3
   },
   "file_extension": ".py",
   "mimetype": "text/x-python",
   "name": "python",
   "nbconvert_exporter": "python",
   "pygments_lexer": "ipython3",
   "version": "3.9.12"
  }
 },
 "nbformat": 4,
 "nbformat_minor": 5
}
