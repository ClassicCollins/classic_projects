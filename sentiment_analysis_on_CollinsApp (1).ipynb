{
 "cells": [
  {
   "cell_type": "code",
   "execution_count": 14,
   "id": "903ebbdc",
   "metadata": {},
   "outputs": [
    {
     "name": "stdout",
     "output_type": "stream",
     "text": [
      "Positive_Comments on Collins App Count : 8\n",
      "['I love Collins app is amazing ', 'Collins built a fantastic app,great! ', 'This is a good way to begin, Kudos ', 'More of it boy,awesome! ', 'The experience was not bad at all ', 'This app is really helpful ', 'Is the app free? ', 'Damn the app is super ']\n",
      "Negative_Comments on Collins App Count : 2\n",
      "['Not happy with you Collins, untill you teach me ', \"Please don't download the app. Collins is not my friend  \"]\n"
     ]
    }
   ],
   "source": [
    "from textblob import TextBlob\n",
    "#comments are list of written remark expressing an opinion or reaction on 'CollinsApp'\n",
    "comments = ['I love Collins app is amazing ',\n",
    "            \"Collins built a fantastic app,great! \",\n",
    "            \"This is a good way to begin, Kudos \",\n",
    "            \"More of it boy,awesome! \",\n",
    "             \"The experience was not bad at all \",\n",
    "             \"This app is really helpful \",\n",
    "            \"Is the app free? \",\n",
    "            \"Not happy with you Collins, untill you teach me \",\n",
    "             \"Damn the app is super \",\n",
    "             'Please don\\'t download the app. Collins is not my friend  ']\n",
    "\n",
    "positive_comments = []\n",
    "negative_comments = []\n",
    "\n",
    "for comment in comments:\n",
    "    comment_polarity = TextBlob(comment).sentiment.polarity\n",
    "    if comment_polarity > 0:\n",
    "        positive_comments.append(comment)\n",
    "        continue\n",
    "    negative_comments.append(comment)\n",
    "\n",
    "print('Positive_Comments on Collins App Count : {}'.format(len(positive_comments)))\n",
    "print(positive_comments)\n",
    "print('Negative_Comments on Collins App Count : {}'.format(len(negative_comments)))\n",
    "print(negative_comments)"
   ]
  }
 ],
 "metadata": {
  "kernelspec": {
   "display_name": "Python 3",
   "language": "python",
   "name": "python3"
  },
  "language_info": {
   "codemirror_mode": {
    "name": "ipython",
    "version": 3
   },
   "file_extension": ".py",
   "mimetype": "text/x-python",
   "name": "python",
   "nbconvert_exporter": "python",
   "pygments_lexer": "ipython3",
   "version": "3.8.8"
  }
 },
 "nbformat": 4,
 "nbformat_minor": 5
}
